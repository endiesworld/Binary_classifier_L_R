{
 "cells": [
  {
   "cell_type": "code",
   "execution_count": 1,
   "id": "2463485d",
   "metadata": {},
   "outputs": [],
   "source": [
    "import struct\n",
    "import numpy as np\n",
    "import gzip\n",
    "import urllib.request\n",
    "import matplotlib.pyplot as plt\n",
    "from array import array\n",
    "from sklearn.linear_model import LogisticRegression"
   ]
  },
  {
   "cell_type": "code",
   "execution_count": 18,
   "id": "7da85568",
   "metadata": {},
   "outputs": [],
   "source": [
    "request = urllib.request.urlopen('http://yann.lecun.com/exdb/mnist/train-images-idx3-ubyte.gz')\n",
    "with open('./Datasets/train-images-idx3-ubyte.gz', 'wb') as file:\n",
    "    file.write(request.read())\n",
    "request = urllib.request.urlopen('http://yann.lecun.com/exdb/mnist/t10k-images-idx3-ubyte.gz')\n",
    "with open('./Datasets/t10k-images-idx3-ubyte.gz', 'wb') as files:\n",
    "    files.write(request.read())"
   ]
  },
  {
   "cell_type": "code",
   "execution_count": null,
   "id": "169963af",
   "metadata": {},
   "outputs": [],
   "source": []
  }
 ],
 "metadata": {
  "kernelspec": {
   "display_name": "Python 3",
   "language": "python",
   "name": "python3"
  },
  "language_info": {
   "codemirror_mode": {
    "name": "ipython",
    "version": 3
   },
   "file_extension": ".py",
   "mimetype": "text/x-python",
   "name": "python",
   "nbconvert_exporter": "python",
   "pygments_lexer": "ipython3",
   "version": "3.8.8"
  }
 },
 "nbformat": 4,
 "nbformat_minor": 5
}
